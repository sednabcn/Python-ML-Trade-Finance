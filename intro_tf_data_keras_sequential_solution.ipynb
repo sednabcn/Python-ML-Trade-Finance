{
 "cells": [
  {
   "cell_type": "markdown",
   "metadata": {
    "colab_type": "text",
    "id": "EIdT9iu_Z4Rb"
   },
   "source": [
    "# Training a classification model for wine production quality"
   ]
  },
  {
   "cell_type": "markdown",
   "metadata": {},
   "source": [
    "### Objective:\n",
    "\n",
    "In this lab, you will use the Keras Sequential API to create a classification model. You will learn how to use the tf.data API for creating input pipelines and use feature columns to prepare the data to be consumed by a neural network. \n",
    "\n",
    "### Lab Scope: \n",
    "This lab does not cover how to make predictions on the model or deploy it to Cloud AI Platform."
   ]
  },
  {
   "cell_type": "markdown",
   "metadata": {},
   "source": [
    "### Learning objectives:\n",
    "1. Apply techniques to clean and inspect data.\n",
    "2. Split dataset into training, validation and test datasets.\n",
    "3. Use the tf.data.Dataset to create an input pipeline.\n",
    "4. Use feature columns to prepare the data to be tained by a neural network.\n",
    "5. Define, compile and train a model using the Keras Sequential API."
   ]
  },
  {
   "cell_type": "markdown",
   "metadata": {
    "colab_type": "text",
    "id": "AHp3M9ZmrIxj"
   },
   "source": [
    "In a *classification* problem, we aim to select the output from a limited set of discrete values, like a category or a class. Contrast this with a *regression* problem, where we aim to predict a value from a continuos range of values.\n",
    "\n",
    "This notebook uses the [Wine Production Quality](https://archive.ics.uci.edu/ml/datasets/wine+quality) Dataset and builds a model to predict the production quality of wine given a set of attributes such as its citric acidity, density, and others. \n",
    "\n",
    "To do this, we'll provide the model with examples of different wines produced, that received a rating from an evaluator. The ratings are provided by the numbers 0 - 10 (0 being of very poor quality and 10 being of great quality).  We will then try and use this model to predict the rate a new wine will receive by infering towards the trained model.\n",
    "\n",
    "Since we are learning how to use the Tensorflow 2.x API, this example uses the `tf.keras` API. Please see [this guide](https://www.tensorflow.org/guide/keras) for details."
   ]
  },
  {
   "cell_type": "code",
   "execution_count": 1,
   "metadata": {
    "colab": {},
    "colab_type": "code",
    "id": "moB4tpEHxKB3"
   },
   "outputs": [
    {
     "name": "stdout",
     "output_type": "stream",
     "text": [
      "Collecting tensorflow==2.1\n",
      "  Downloading tensorflow-2.1.0-cp37-cp37m-manylinux2010_x86_64.whl (421.8 MB)\n",
      "\u001b[K     |████████████████████████████████| 421.8 MB 13 kB/s s eta 0:00:011     |██████████████████████████      | 343.3 MB 111.0 MB/s eta 0:00:01\n",
      "\u001b[?25hRequirement already satisfied: google-pasta>=0.1.6 in /opt/conda/lib/python3.7/site-packages (from tensorflow==2.1) (0.2.0)\n",
      "Requirement already satisfied: numpy<2.0,>=1.16.0 in /opt/conda/lib/python3.7/site-packages (from tensorflow==2.1) (1.19.5)\n",
      "Requirement already satisfied: termcolor>=1.1.0 in /opt/conda/lib/python3.7/site-packages (from tensorflow==2.1) (1.1.0)\n",
      "Requirement already satisfied: grpcio>=1.8.6 in /opt/conda/lib/python3.7/site-packages (from tensorflow==2.1) (1.36.0)\n",
      "Requirement already satisfied: wheel>=0.26 in /opt/conda/lib/python3.7/site-packages (from tensorflow==2.1) (0.36.2)\n",
      "Collecting scipy==1.4.1\n",
      "  Downloading scipy-1.4.1-cp37-cp37m-manylinux1_x86_64.whl (26.1 MB)\n",
      "\u001b[K     |████████████████████████████████| 26.1 MB 45.8 MB/s eta 0:00:01\n",
      "\u001b[?25hCollecting tensorboard<2.2.0,>=2.1.0\n",
      "  Downloading tensorboard-2.1.1-py3-none-any.whl (3.8 MB)\n",
      "\u001b[K     |████████████████████████████████| 3.8 MB 50.9 MB/s eta 0:00:01\n",
      "\u001b[?25hRequirement already satisfied: six>=1.12.0 in /opt/conda/lib/python3.7/site-packages (from tensorflow==2.1) (1.15.0)\n",
      "Requirement already satisfied: opt-einsum>=2.3.2 in /opt/conda/lib/python3.7/site-packages (from tensorflow==2.1) (3.3.0)\n",
      "Requirement already satisfied: keras-preprocessing>=1.1.0 in /opt/conda/lib/python3.7/site-packages (from tensorflow==2.1) (1.1.2)\n",
      "Requirement already satisfied: protobuf>=3.8.0 in /opt/conda/lib/python3.7/site-packages (from tensorflow==2.1) (3.15.3)\n",
      "Collecting keras-applications>=1.0.8\n",
      "  Downloading Keras_Applications-1.0.8-py3-none-any.whl (50 kB)\n",
      "\u001b[K     |████████████████████████████████| 50 kB 8.2 MB/s  eta 0:00:01\n",
      "\u001b[?25hRequirement already satisfied: absl-py>=0.7.0 in /opt/conda/lib/python3.7/site-packages (from tensorflow==2.1) (0.10.0)\n",
      "Collecting gast==0.2.2\n",
      "  Downloading gast-0.2.2.tar.gz (10 kB)\n",
      "Collecting astor>=0.6.0\n",
      "  Downloading astor-0.8.1-py2.py3-none-any.whl (27 kB)\n",
      "Collecting tensorflow-estimator<2.2.0,>=2.1.0rc0\n",
      "  Downloading tensorflow_estimator-2.1.0-py2.py3-none-any.whl (448 kB)\n",
      "\u001b[K     |████████████████████████████████| 448 kB 58.4 MB/s eta 0:00:01\n",
      "\u001b[?25hRequirement already satisfied: wrapt>=1.11.1 in /opt/conda/lib/python3.7/site-packages (from tensorflow==2.1) (1.12.1)\n",
      "Requirement already satisfied: h5py in /opt/conda/lib/python3.7/site-packages (from keras-applications>=1.0.8->tensorflow==2.1) (2.10.0)\n",
      "Requirement already satisfied: requests<3,>=2.21.0 in /opt/conda/lib/python3.7/site-packages (from tensorboard<2.2.0,>=2.1.0->tensorflow==2.1) (2.25.1)\n",
      "Requirement already satisfied: setuptools>=41.0.0 in /opt/conda/lib/python3.7/site-packages (from tensorboard<2.2.0,>=2.1.0->tensorflow==2.1) (54.0.0)\n",
      "Requirement already satisfied: google-auth-oauthlib<0.5,>=0.4.1 in /opt/conda/lib/python3.7/site-packages (from tensorboard<2.2.0,>=2.1.0->tensorflow==2.1) (0.4.2)\n",
      "Requirement already satisfied: markdown>=2.6.8 in /opt/conda/lib/python3.7/site-packages (from tensorboard<2.2.0,>=2.1.0->tensorflow==2.1) (3.3.4)\n",
      "Requirement already satisfied: werkzeug>=0.11.15 in /opt/conda/lib/python3.7/site-packages (from tensorboard<2.2.0,>=2.1.0->tensorflow==2.1) (1.0.1)\n",
      "Requirement already satisfied: google-auth<2,>=1.6.3 in /opt/conda/lib/python3.7/site-packages (from tensorboard<2.2.0,>=2.1.0->tensorflow==2.1) (1.27.0)\n",
      "Requirement already satisfied: rsa<5,>=3.1.4 in /opt/conda/lib/python3.7/site-packages (from google-auth<2,>=1.6.3->tensorboard<2.2.0,>=2.1.0->tensorflow==2.1) (4.7.2)\n",
      "Requirement already satisfied: pyasn1-modules>=0.2.1 in /opt/conda/lib/python3.7/site-packages (from google-auth<2,>=1.6.3->tensorboard<2.2.0,>=2.1.0->tensorflow==2.1) (0.2.8)\n",
      "Requirement already satisfied: cachetools<5.0,>=2.0.0 in /opt/conda/lib/python3.7/site-packages (from google-auth<2,>=1.6.3->tensorboard<2.2.0,>=2.1.0->tensorflow==2.1) (4.2.1)\n",
      "Requirement already satisfied: requests-oauthlib>=0.7.0 in /opt/conda/lib/python3.7/site-packages (from google-auth-oauthlib<0.5,>=0.4.1->tensorboard<2.2.0,>=2.1.0->tensorflow==2.1) (1.3.0)\n",
      "Requirement already satisfied: importlib-metadata in /opt/conda/lib/python3.7/site-packages (from markdown>=2.6.8->tensorboard<2.2.0,>=2.1.0->tensorflow==2.1) (3.7.0)\n",
      "Requirement already satisfied: pyasn1<0.5.0,>=0.4.6 in /opt/conda/lib/python3.7/site-packages (from pyasn1-modules>=0.2.1->google-auth<2,>=1.6.3->tensorboard<2.2.0,>=2.1.0->tensorflow==2.1) (0.4.8)\n",
      "Requirement already satisfied: idna<3,>=2.5 in /opt/conda/lib/python3.7/site-packages (from requests<3,>=2.21.0->tensorboard<2.2.0,>=2.1.0->tensorflow==2.1) (2.10)\n",
      "Requirement already satisfied: chardet<5,>=3.0.2 in /opt/conda/lib/python3.7/site-packages (from requests<3,>=2.21.0->tensorboard<2.2.0,>=2.1.0->tensorflow==2.1) (4.0.0)\n",
      "Requirement already satisfied: urllib3<1.27,>=1.21.1 in /opt/conda/lib/python3.7/site-packages (from requests<3,>=2.21.0->tensorboard<2.2.0,>=2.1.0->tensorflow==2.1) (1.26.3)\n",
      "Requirement already satisfied: certifi>=2017.4.17 in /opt/conda/lib/python3.7/site-packages (from requests<3,>=2.21.0->tensorboard<2.2.0,>=2.1.0->tensorflow==2.1) (2020.12.5)\n",
      "Requirement already satisfied: oauthlib>=3.0.0 in /opt/conda/lib/python3.7/site-packages (from requests-oauthlib>=0.7.0->google-auth-oauthlib<0.5,>=0.4.1->tensorboard<2.2.0,>=2.1.0->tensorflow==2.1) (3.1.0)\n",
      "Requirement already satisfied: typing-extensions>=3.6.4 in /opt/conda/lib/python3.7/site-packages (from importlib-metadata->markdown>=2.6.8->tensorboard<2.2.0,>=2.1.0->tensorflow==2.1) (3.7.4.3)\n",
      "Requirement already satisfied: zipp>=0.5 in /opt/conda/lib/python3.7/site-packages (from importlib-metadata->markdown>=2.6.8->tensorboard<2.2.0,>=2.1.0->tensorflow==2.1) (3.4.0)\n",
      "Building wheels for collected packages: gast\n",
      "  Building wheel for gast (setup.py) ... \u001b[?25ldone\n",
      "\u001b[?25h  Created wheel for gast: filename=gast-0.2.2-py3-none-any.whl size=7538 sha256=108ee1217a2652edcea3e98f573cabb586ff1b1ba06d327a35d8eac61168ae13\n",
      "  Stored in directory: /home/jupyter/.cache/pip/wheels/21/7f/02/420f32a803f7d0967b48dd823da3f558c5166991bfd204eef3\n",
      "Successfully built gast\n",
      "Installing collected packages: tensorflow-estimator, tensorboard, scipy, keras-applications, gast, astor, tensorflow\n",
      "  Attempting uninstall: tensorflow-estimator\n",
      "    Found existing installation: tensorflow-estimator 2.3.0\n",
      "    Uninstalling tensorflow-estimator-2.3.0:\n",
      "      Successfully uninstalled tensorflow-estimator-2.3.0\n",
      "  Attempting uninstall: tensorboard\n",
      "    Found existing installation: tensorboard 2.3.0\n",
      "    Uninstalling tensorboard-2.3.0:\n",
      "      Successfully uninstalled tensorboard-2.3.0\n",
      "  Attempting uninstall: scipy\n",
      "    Found existing installation: scipy 1.6.0\n",
      "    Uninstalling scipy-1.6.0:\n",
      "      Successfully uninstalled scipy-1.6.0\n",
      "  Attempting uninstall: gast\n",
      "    Found existing installation: gast 0.3.3\n",
      "    Uninstalling gast-0.3.3:\n",
      "      Successfully uninstalled gast-0.3.3\n",
      "  Attempting uninstall: tensorflow\n",
      "    Found existing installation: tensorflow 2.3.2\n",
      "    Uninstalling tensorflow-2.3.2:\n",
      "      Successfully uninstalled tensorflow-2.3.2\n",
      "\u001b[31mERROR: pip's dependency resolver does not currently take into account all the packages that are installed. This behaviour is the source of the following dependency conflicts.\n",
      "explainable-ai-sdk 1.2.0 requires xai-tabular-widget, which is not installed.\n",
      "tfx 0.26.1 requires kubernetes<12,>=10.0.1, but you have kubernetes 12.0.1 which is incompatible.\n",
      "tfx 0.26.1 requires pyarrow<0.18,>=0.17, but you have pyarrow 3.0.0 which is incompatible.\n",
      "tfx 0.26.1 requires tensorflow!=2.0.*,!=2.1.*,!=2.2.*,!=2.4.*,<3,>=1.15.2, but you have tensorflow 2.1.0 which is incompatible.\n",
      "tfx-bsl 0.26.1 requires pyarrow<0.18,>=0.17, but you have pyarrow 3.0.0 which is incompatible.\n",
      "tfx-bsl 0.26.1 requires tensorflow!=2.0.*,!=2.1.*,!=2.2.*,!=2.4.*,<3,>=1.15.2, but you have tensorflow 2.1.0 which is incompatible.\n",
      "tensorflow-transform 0.26.0 requires pyarrow<0.18,>=0.17, but you have pyarrow 3.0.0 which is incompatible.\n",
      "tensorflow-transform 0.26.0 requires tensorflow!=2.0.*,!=2.1.*,!=2.2.*,<2.4,>=1.15.2, but you have tensorflow 2.1.0 which is incompatible.\n",
      "tensorflow-serving-api 2.3.0 requires tensorflow<3,>=2.3, but you have tensorflow 2.1.0 which is incompatible.\n",
      "tensorflow-probability 0.11.0 requires cloudpickle==1.3, but you have cloudpickle 1.6.0 which is incompatible.\n",
      "tensorflow-probability 0.11.0 requires gast>=0.3.2, but you have gast 0.2.2 which is incompatible.\n",
      "tensorflow-model-analysis 0.26.0 requires pyarrow<0.18,>=0.17, but you have pyarrow 3.0.0 which is incompatible.\n",
      "tensorflow-model-analysis 0.26.0 requires tensorflow!=2.0.*,!=2.1.*,!=2.2.*,!=2.4.*,<3,>=1.15.2, but you have tensorflow 2.1.0 which is incompatible.\n",
      "tensorflow-io 0.15.0 requires tensorflow<2.4.0,>=2.3.0, but you have tensorflow 2.1.0 which is incompatible.\n",
      "tensorflow-data-validation 0.26.0 requires joblib<0.15,>=0.12, but you have joblib 1.0.1 which is incompatible.\n",
      "tensorflow-data-validation 0.26.0 requires pyarrow<0.18,>=0.17, but you have pyarrow 3.0.0 which is incompatible.\n",
      "tensorflow-data-validation 0.26.0 requires tensorflow!=2.0.*,!=2.1.*,!=2.2.*,!=2.4.*,<3,>=1.15.2, but you have tensorflow 2.1.0 which is incompatible.\n",
      "tensorflow-cloud 0.1.13 requires tensorboard>=2.3.0, but you have tensorboard 2.1.1 which is incompatible.\n",
      "keras 2.4.0 requires tensorflow>=2.2.0, but you have tensorflow 2.1.0 which is incompatible.\n",
      "fairness-indicators 0.26.0 requires tensorflow!=2.0.*,!=2.1.*,!=2.2.*,!=2.4.*,<3,>=1.15.2, but you have tensorflow 2.1.0 which is incompatible.\n",
      "explainable-ai-sdk 1.2.0 requires numpy<1.19.0, but you have numpy 1.19.5 which is incompatible.\u001b[0m\n",
      "Successfully installed astor-0.8.1 gast-0.2.2 keras-applications-1.0.8 scipy-1.4.1 tensorboard-2.1.1 tensorflow-2.1.0 tensorflow-estimator-2.1.0\n"
     ]
    }
   ],
   "source": [
    "# Ensure the right version of Tensorflow is installed.\n",
    "!pip freeze | grep tensorflow==2.1 || pip install tensorflow==2.1"
   ]
  },
  {
   "cell_type": "code",
   "execution_count": 2,
   "metadata": {
    "colab": {},
    "colab_type": "code",
    "id": "1rRo8oNqZ-Rj"
   },
   "outputs": [
    {
     "name": "stdout",
     "output_type": "stream",
     "text": [
      "2.1.0\n"
     ]
    }
   ],
   "source": [
    "from __future__ import absolute_import, division, print_function, unicode_literals\n",
    "\n",
    "import pathlib\n",
    "import numpy as np\n",
    "import pandas as pd\n",
    "import matplotlib.pyplot as plt\n",
    "\n",
    "import tensorflow as tf\n",
    "\n",
    "from tensorflow import keras\n",
    "from tensorflow.keras import layers\n",
    "\n",
    "print(tf.__version__)"
   ]
  },
  {
   "cell_type": "markdown",
   "metadata": {
    "colab_type": "text",
    "id": "F_72b0LCNbjx"
   },
   "source": [
    "## The Wine Quality Dataset\n",
    "\n",
    "The dataset is available in the [UCI Machine Learning Repository](https://archive.ics.uci.edu/ml/).\n",
    "\n"
   ]
  },
  {
   "cell_type": "markdown",
   "metadata": {
    "colab_type": "text",
    "id": "gFh9ne3FZ-On"
   },
   "source": [
    "### Get the data\n",
    "There is a copy of the White Wine dataset available on Google Cloud Storage (GCS). \n",
    "The cell below shows the location of the CSV file."
   ]
  },
  {
   "cell_type": "code",
   "execution_count": 3,
   "metadata": {
    "colab": {},
    "colab_type": "code",
    "id": "p9kxxgzvzlyz"
   },
   "outputs": [],
   "source": [
    "dataset_path = \"gs://cloud-training-demos/wine_quality/winequality-white.csv\""
   ]
  },
  {
   "cell_type": "markdown",
   "metadata": {
    "colab_type": "text",
    "id": "nslsRLh7Zss4"
   },
   "source": [
    "To visualize and manipulate the data, we will use [pandas](https://pandas.pydata.org/docs/).\n",
    "\n",
    "First step is to import the data. We should list the columns that will be used to train our model. These column names will define what data will compose the [dataframe](https://pandas.pydata.org/pandas-docs/stable/reference/api/pandas.DataFrame.html) object in pandas."
   ]
  },
  {
   "cell_type": "code",
   "execution_count": 4,
   "metadata": {},
   "outputs": [],
   "source": [
    "column_names = ['fixed_acidity','volatile_acidity','citric_acid','residual_sugar',\n",
    "                'chlorides','free_sulfur_dioxide','total_sulfur_dioxide','density',\n",
    "                'pH','sulphates','alcohol','quality']"
   ]
  },
  {
   "cell_type": "code",
   "execution_count": 5,
   "metadata": {},
   "outputs": [],
   "source": [
    "raw_dataframe = pd.read_csv(dataset_path, names=column_names, header = 0, \n",
    "                      na_values = \" \", comment='\\t',\n",
    "                      sep=\";\", skipinitialspace=True)\n",
    "\n",
    "raw_dataframe = raw_dataframe.astype(float)\n",
    "raw_dataframe['quality'] = raw_dataframe['quality'].astype(int)\n",
    "dataframe= raw_dataframe.copy()\n"
   ]
  },
  {
   "cell_type": "markdown",
   "metadata": {},
   "source": [
    "### Clean the data\n",
    "\n",
    "Datasets sometimes can have null values. Running the next cell counts how many null values exist on each one of the columns. \n",
    "\n",
    "**Note**: There are many other steps to make sure the data is clean, but this is out of the scope of this exercise."
   ]
  },
  {
   "cell_type": "code",
   "execution_count": 6,
   "metadata": {},
   "outputs": [
    {
     "data": {
      "text/plain": [
       "fixed_acidity           0\n",
       "volatile_acidity        0\n",
       "citric_acid             0\n",
       "residual_sugar          0\n",
       "chlorides               0\n",
       "free_sulfur_dioxide     0\n",
       "total_sulfur_dioxide    0\n",
       "density                 0\n",
       "pH                      0\n",
       "sulphates               0\n",
       "alcohol                 0\n",
       "quality                 0\n",
       "dtype: int64"
      ]
     },
     "execution_count": 6,
     "metadata": {},
     "output_type": "execute_result"
    }
   ],
   "source": [
    "dataframe.isna().sum()"
   ]
  },
  {
   "cell_type": "markdown",
   "metadata": {},
   "source": [
    "We can see that, on this dataset, there are no null values.\n",
    "If there were any, we could run `dataframe = dataframe.dropna()` to drop them and make this tutorial simpler."
   ]
  },
  {
   "cell_type": "markdown",
   "metadata": {},
   "source": [
    "### Inspect the data\n",
    "\n",
    "Let's take a look at the dataframe content. The tail() method, when ran on a dataframe, shows the last n roles (n is 5 by default)."
   ]
  },
  {
   "cell_type": "code",
   "execution_count": 7,
   "metadata": {},
   "outputs": [
    {
     "data": {
      "text/html": [
       "<div>\n",
       "<style scoped>\n",
       "    .dataframe tbody tr th:only-of-type {\n",
       "        vertical-align: middle;\n",
       "    }\n",
       "\n",
       "    .dataframe tbody tr th {\n",
       "        vertical-align: top;\n",
       "    }\n",
       "\n",
       "    .dataframe thead th {\n",
       "        text-align: right;\n",
       "    }\n",
       "</style>\n",
       "<table border=\"1\" class=\"dataframe\">\n",
       "  <thead>\n",
       "    <tr style=\"text-align: right;\">\n",
       "      <th></th>\n",
       "      <th>fixed_acidity</th>\n",
       "      <th>volatile_acidity</th>\n",
       "      <th>citric_acid</th>\n",
       "      <th>residual_sugar</th>\n",
       "      <th>chlorides</th>\n",
       "      <th>free_sulfur_dioxide</th>\n",
       "      <th>total_sulfur_dioxide</th>\n",
       "      <th>density</th>\n",
       "      <th>pH</th>\n",
       "      <th>sulphates</th>\n",
       "      <th>alcohol</th>\n",
       "      <th>quality</th>\n",
       "    </tr>\n",
       "  </thead>\n",
       "  <tbody>\n",
       "    <tr>\n",
       "      <th>4893</th>\n",
       "      <td>6.2</td>\n",
       "      <td>0.21</td>\n",
       "      <td>0.29</td>\n",
       "      <td>1.6</td>\n",
       "      <td>0.039</td>\n",
       "      <td>24.0</td>\n",
       "      <td>92.0</td>\n",
       "      <td>0.99114</td>\n",
       "      <td>3.27</td>\n",
       "      <td>0.50</td>\n",
       "      <td>11.2</td>\n",
       "      <td>6</td>\n",
       "    </tr>\n",
       "    <tr>\n",
       "      <th>4894</th>\n",
       "      <td>6.6</td>\n",
       "      <td>0.32</td>\n",
       "      <td>0.36</td>\n",
       "      <td>8.0</td>\n",
       "      <td>0.047</td>\n",
       "      <td>57.0</td>\n",
       "      <td>168.0</td>\n",
       "      <td>0.99490</td>\n",
       "      <td>3.15</td>\n",
       "      <td>0.46</td>\n",
       "      <td>9.6</td>\n",
       "      <td>5</td>\n",
       "    </tr>\n",
       "    <tr>\n",
       "      <th>4895</th>\n",
       "      <td>6.5</td>\n",
       "      <td>0.24</td>\n",
       "      <td>0.19</td>\n",
       "      <td>1.2</td>\n",
       "      <td>0.041</td>\n",
       "      <td>30.0</td>\n",
       "      <td>111.0</td>\n",
       "      <td>0.99254</td>\n",
       "      <td>2.99</td>\n",
       "      <td>0.46</td>\n",
       "      <td>9.4</td>\n",
       "      <td>6</td>\n",
       "    </tr>\n",
       "    <tr>\n",
       "      <th>4896</th>\n",
       "      <td>5.5</td>\n",
       "      <td>0.29</td>\n",
       "      <td>0.30</td>\n",
       "      <td>1.1</td>\n",
       "      <td>0.022</td>\n",
       "      <td>20.0</td>\n",
       "      <td>110.0</td>\n",
       "      <td>0.98869</td>\n",
       "      <td>3.34</td>\n",
       "      <td>0.38</td>\n",
       "      <td>12.8</td>\n",
       "      <td>7</td>\n",
       "    </tr>\n",
       "    <tr>\n",
       "      <th>4897</th>\n",
       "      <td>6.0</td>\n",
       "      <td>0.21</td>\n",
       "      <td>0.38</td>\n",
       "      <td>0.8</td>\n",
       "      <td>0.020</td>\n",
       "      <td>22.0</td>\n",
       "      <td>98.0</td>\n",
       "      <td>0.98941</td>\n",
       "      <td>3.26</td>\n",
       "      <td>0.32</td>\n",
       "      <td>11.8</td>\n",
       "      <td>6</td>\n",
       "    </tr>\n",
       "  </tbody>\n",
       "</table>\n",
       "</div>"
      ],
      "text/plain": [
       "      fixed_acidity  volatile_acidity  citric_acid  residual_sugar  chlorides  \\\n",
       "4893            6.2              0.21         0.29             1.6      0.039   \n",
       "4894            6.6              0.32         0.36             8.0      0.047   \n",
       "4895            6.5              0.24         0.19             1.2      0.041   \n",
       "4896            5.5              0.29         0.30             1.1      0.022   \n",
       "4897            6.0              0.21         0.38             0.8      0.020   \n",
       "\n",
       "      free_sulfur_dioxide  total_sulfur_dioxide  density    pH  sulphates  \\\n",
       "4893                 24.0                  92.0  0.99114  3.27       0.50   \n",
       "4894                 57.0                 168.0  0.99490  3.15       0.46   \n",
       "4895                 30.0                 111.0  0.99254  2.99       0.46   \n",
       "4896                 20.0                 110.0  0.98869  3.34       0.38   \n",
       "4897                 22.0                  98.0  0.98941  3.26       0.32   \n",
       "\n",
       "      alcohol  quality  \n",
       "4893     11.2        6  \n",
       "4894      9.6        5  \n",
       "4895      9.4        6  \n",
       "4896     12.8        7  \n",
       "4897     11.8        6  "
      ]
     },
     "execution_count": 7,
     "metadata": {},
     "output_type": "execute_result"
    }
   ],
   "source": [
    "dataframe.tail()"
   ]
  },
  {
   "cell_type": "code",
   "execution_count": 8,
   "metadata": {},
   "outputs": [
    {
     "data": {
      "text/html": [
       "<div>\n",
       "<style scoped>\n",
       "    .dataframe tbody tr th:only-of-type {\n",
       "        vertical-align: middle;\n",
       "    }\n",
       "\n",
       "    .dataframe tbody tr th {\n",
       "        vertical-align: top;\n",
       "    }\n",
       "\n",
       "    .dataframe thead th {\n",
       "        text-align: right;\n",
       "    }\n",
       "</style>\n",
       "<table border=\"1\" class=\"dataframe\">\n",
       "  <thead>\n",
       "    <tr style=\"text-align: right;\">\n",
       "      <th></th>\n",
       "      <th>count</th>\n",
       "      <th>mean</th>\n",
       "      <th>std</th>\n",
       "      <th>min</th>\n",
       "      <th>25%</th>\n",
       "      <th>50%</th>\n",
       "      <th>75%</th>\n",
       "      <th>max</th>\n",
       "    </tr>\n",
       "  </thead>\n",
       "  <tbody>\n",
       "    <tr>\n",
       "      <th>fixed_acidity</th>\n",
       "      <td>4898.0</td>\n",
       "      <td>6.854788</td>\n",
       "      <td>0.843868</td>\n",
       "      <td>3.80000</td>\n",
       "      <td>6.300000</td>\n",
       "      <td>6.80000</td>\n",
       "      <td>7.3000</td>\n",
       "      <td>14.20000</td>\n",
       "    </tr>\n",
       "    <tr>\n",
       "      <th>volatile_acidity</th>\n",
       "      <td>4898.0</td>\n",
       "      <td>0.278241</td>\n",
       "      <td>0.100795</td>\n",
       "      <td>0.08000</td>\n",
       "      <td>0.210000</td>\n",
       "      <td>0.26000</td>\n",
       "      <td>0.3200</td>\n",
       "      <td>1.10000</td>\n",
       "    </tr>\n",
       "    <tr>\n",
       "      <th>citric_acid</th>\n",
       "      <td>4898.0</td>\n",
       "      <td>0.334192</td>\n",
       "      <td>0.121020</td>\n",
       "      <td>0.00000</td>\n",
       "      <td>0.270000</td>\n",
       "      <td>0.32000</td>\n",
       "      <td>0.3900</td>\n",
       "      <td>1.66000</td>\n",
       "    </tr>\n",
       "    <tr>\n",
       "      <th>residual_sugar</th>\n",
       "      <td>4898.0</td>\n",
       "      <td>6.391415</td>\n",
       "      <td>5.072058</td>\n",
       "      <td>0.60000</td>\n",
       "      <td>1.700000</td>\n",
       "      <td>5.20000</td>\n",
       "      <td>9.9000</td>\n",
       "      <td>65.80000</td>\n",
       "    </tr>\n",
       "    <tr>\n",
       "      <th>chlorides</th>\n",
       "      <td>4898.0</td>\n",
       "      <td>0.045772</td>\n",
       "      <td>0.021848</td>\n",
       "      <td>0.00900</td>\n",
       "      <td>0.036000</td>\n",
       "      <td>0.04300</td>\n",
       "      <td>0.0500</td>\n",
       "      <td>0.34600</td>\n",
       "    </tr>\n",
       "    <tr>\n",
       "      <th>free_sulfur_dioxide</th>\n",
       "      <td>4898.0</td>\n",
       "      <td>35.308085</td>\n",
       "      <td>17.007137</td>\n",
       "      <td>2.00000</td>\n",
       "      <td>23.000000</td>\n",
       "      <td>34.00000</td>\n",
       "      <td>46.0000</td>\n",
       "      <td>289.00000</td>\n",
       "    </tr>\n",
       "    <tr>\n",
       "      <th>total_sulfur_dioxide</th>\n",
       "      <td>4898.0</td>\n",
       "      <td>138.360657</td>\n",
       "      <td>42.498065</td>\n",
       "      <td>9.00000</td>\n",
       "      <td>108.000000</td>\n",
       "      <td>134.00000</td>\n",
       "      <td>167.0000</td>\n",
       "      <td>440.00000</td>\n",
       "    </tr>\n",
       "    <tr>\n",
       "      <th>density</th>\n",
       "      <td>4898.0</td>\n",
       "      <td>0.994027</td>\n",
       "      <td>0.002991</td>\n",
       "      <td>0.98711</td>\n",
       "      <td>0.991723</td>\n",
       "      <td>0.99374</td>\n",
       "      <td>0.9961</td>\n",
       "      <td>1.03898</td>\n",
       "    </tr>\n",
       "    <tr>\n",
       "      <th>pH</th>\n",
       "      <td>4898.0</td>\n",
       "      <td>3.188267</td>\n",
       "      <td>0.151001</td>\n",
       "      <td>2.72000</td>\n",
       "      <td>3.090000</td>\n",
       "      <td>3.18000</td>\n",
       "      <td>3.2800</td>\n",
       "      <td>3.82000</td>\n",
       "    </tr>\n",
       "    <tr>\n",
       "      <th>sulphates</th>\n",
       "      <td>4898.0</td>\n",
       "      <td>0.489847</td>\n",
       "      <td>0.114126</td>\n",
       "      <td>0.22000</td>\n",
       "      <td>0.410000</td>\n",
       "      <td>0.47000</td>\n",
       "      <td>0.5500</td>\n",
       "      <td>1.08000</td>\n",
       "    </tr>\n",
       "    <tr>\n",
       "      <th>alcohol</th>\n",
       "      <td>4898.0</td>\n",
       "      <td>10.514267</td>\n",
       "      <td>1.230621</td>\n",
       "      <td>8.00000</td>\n",
       "      <td>9.500000</td>\n",
       "      <td>10.40000</td>\n",
       "      <td>11.4000</td>\n",
       "      <td>14.20000</td>\n",
       "    </tr>\n",
       "    <tr>\n",
       "      <th>quality</th>\n",
       "      <td>4898.0</td>\n",
       "      <td>5.877909</td>\n",
       "      <td>0.885639</td>\n",
       "      <td>3.00000</td>\n",
       "      <td>5.000000</td>\n",
       "      <td>6.00000</td>\n",
       "      <td>6.0000</td>\n",
       "      <td>9.00000</td>\n",
       "    </tr>\n",
       "  </tbody>\n",
       "</table>\n",
       "</div>"
      ],
      "text/plain": [
       "                       count        mean        std      min         25%  \\\n",
       "fixed_acidity         4898.0    6.854788   0.843868  3.80000    6.300000   \n",
       "volatile_acidity      4898.0    0.278241   0.100795  0.08000    0.210000   \n",
       "citric_acid           4898.0    0.334192   0.121020  0.00000    0.270000   \n",
       "residual_sugar        4898.0    6.391415   5.072058  0.60000    1.700000   \n",
       "chlorides             4898.0    0.045772   0.021848  0.00900    0.036000   \n",
       "free_sulfur_dioxide   4898.0   35.308085  17.007137  2.00000   23.000000   \n",
       "total_sulfur_dioxide  4898.0  138.360657  42.498065  9.00000  108.000000   \n",
       "density               4898.0    0.994027   0.002991  0.98711    0.991723   \n",
       "pH                    4898.0    3.188267   0.151001  2.72000    3.090000   \n",
       "sulphates             4898.0    0.489847   0.114126  0.22000    0.410000   \n",
       "alcohol               4898.0   10.514267   1.230621  8.00000    9.500000   \n",
       "quality               4898.0    5.877909   0.885639  3.00000    5.000000   \n",
       "\n",
       "                            50%       75%        max  \n",
       "fixed_acidity           6.80000    7.3000   14.20000  \n",
       "volatile_acidity        0.26000    0.3200    1.10000  \n",
       "citric_acid             0.32000    0.3900    1.66000  \n",
       "residual_sugar          5.20000    9.9000   65.80000  \n",
       "chlorides               0.04300    0.0500    0.34600  \n",
       "free_sulfur_dioxide    34.00000   46.0000  289.00000  \n",
       "total_sulfur_dioxide  134.00000  167.0000  440.00000  \n",
       "density                 0.99374    0.9961    1.03898  \n",
       "pH                      3.18000    3.2800    3.82000  \n",
       "sulphates               0.47000    0.5500    1.08000  \n",
       "alcohol                10.40000   11.4000   14.20000  \n",
       "quality                 6.00000    6.0000    9.00000  "
      ]
     },
     "execution_count": 8,
     "metadata": {},
     "output_type": "execute_result"
    }
   ],
   "source": [
    "data_stats = dataframe.describe()\n",
    "data_stats = data_stats.transpose()\n",
    "data_stats"
   ]
  },
  {
   "cell_type": "markdown",
   "metadata": {},
   "source": [
    "Have a quick look at the joint distribution of a few pairs of columns from the training set:"
   ]
  },
  {
   "cell_type": "code",
   "execution_count": 9,
   "metadata": {},
   "outputs": [
    {
     "data": {
      "text/plain": [
       "<seaborn.axisgrid.PairGrid at 0x7f1c923aacd0>"
      ]
     },
     "execution_count": 9,
     "metadata": {},
     "output_type": "execute_result"
    },
    {
     "data": {
      "image/png": "[encoded data removed]",
      "text/plain": [
       "<Figure size 720x720 with 20 Axes>"
      ]
     },
     "metadata": {
      "needs_background": "light"
     },
     "output_type": "display_data"
    }
   ],
   "source": [
    "import seaborn as sns\n",
    "\n",
    "sns.pairplot(dataframe[[\"quality\", \"citric_acid\", \"residual_sugar\", \"alcohol\"]], diag_kind=\"kde\")"
   ]
  },
  {
   "cell_type": "markdown",
   "metadata": {},
   "source": [
    "### --- Some considerations ---\n",
    "\n",
    "Did you notice anything when looking at the stats table?\n",
    "\n",
    "One useful piece of information we can get from those are, for example, min and max values. This allows us to understand ranges in which these features fall in.\n",
    "\n",
    "Based on the description of the dataset and the task we are trying to achieve, do you see any issues with the examples we have available to train on?\n",
    "\n",
    "**Did you notice** that the ratings on the dataset range from 3 to 9? In this dataset, there is no wine rated with a 10 or a 0 - 2 rating. This will likely produce a poor model that is not able to generalize well to examples of fantastic tasting wine (nor to the ones that taste pretty bad!).\n",
    "One way to fix this is to make sure your dataset represents all possible classes well. Another analysis, that we do not do on this exercise, is check if the data is balanced. Having a balanced dataset produces fair model, and that is always a good thing!\n"
   ]
  },
  {
   "cell_type": "markdown",
   "metadata": {},
   "source": [
    "### Split the data into train, validation and test\n",
    "\n",
    "Now split the dataset into a training, validation, and test set.\n",
    "\n",
    "Test sets are used for a final evaluation of the trained model.\n",
    "\n",
    "There are more sophisticated ways to make sure that your splitting methods are repeatable. Ideally, the sets would always be the same after splitting to avoid randomic results, which makes experimentation difficult."
   ]
  },
  {
   "cell_type": "code",
   "execution_count": 10,
   "metadata": {},
   "outputs": [
    {
     "name": "stdout",
     "output_type": "stream",
     "text": [
      "3134 train examples\n",
      "784 validation examples\n",
      "980 test examples\n"
     ]
    }
   ],
   "source": [
    "from sklearn.model_selection import train_test_split\n",
    "\n",
    "train, test = train_test_split(dataframe, test_size=0.2)\n",
    "train, val = train_test_split(train, test_size=0.2)\n",
    "print(len(train), 'train examples')\n",
    "print(len(val), 'validation examples')\n",
    "print(len(test), 'test examples')"
   ]
  },
  {
   "cell_type": "markdown",
   "metadata": {},
   "source": [
    "### Use the tf.data.Dataset\n",
    "\n",
    "The tf.data.Dataset allows for writing descriptive and efficient input pipelines. Dataset usage follows a common pattern:\n",
    "\n",
    "- Create a source dataset from your input data.\n",
    "- Apply dataset transformations to preprocess the data.\n",
    "- Iterate over the dataset and process the elements.\n",
    "\n",
    "Iteration happens in a streaming fashion, so the full dataset does not need to fit into memory.\n",
    "\n",
    "The `df_to_dataset` method below creates a dataset object from a pandas dataframe."
   ]
  },
  {
   "cell_type": "code",
   "execution_count": 11,
   "metadata": {},
   "outputs": [],
   "source": [
    "def df_to_dataset(dataframe, epochs=10, shuffle=True, batch_size=64):\n",
    "  dataframe = dataframe.copy()\n",
    "  labels = tf.keras.utils.to_categorical(dataframe.pop('quality'), num_classes=11) #extracting the column which contains the training label\n",
    "  ds = tf.data.Dataset.from_tensor_slices((dict(dataframe), labels))\n",
    "  if shuffle:\n",
    "    ds = ds.shuffle(buffer_size=len(dataframe))\n",
    "  ds = ds.repeat(epochs).batch(batch_size)\n",
    "  return ds"
   ]
  },
  {
   "cell_type": "markdown",
   "metadata": {},
   "source": [
    "Next step is to create batches from train, validation and test datasets that we split earlier. Let's use a batch size of 5 for demonstration purposes."
   ]
  },
  {
   "cell_type": "code",
   "execution_count": 12,
   "metadata": {},
   "outputs": [],
   "source": [
    "train_ds = df_to_dataset(train)\n",
    "val_ds = df_to_dataset(val, shuffle=False)\n",
    "test_ds = df_to_dataset(test, shuffle=False)\n"
   ]
  },
  {
   "cell_type": "markdown",
   "metadata": {},
   "source": [
    "Let's look at one batch of the data. The example below prints the content of a batch (column names, elements from the `citric_acid` column and elements from the `quality` label."
   ]
  },
  {
   "cell_type": "code",
   "execution_count": 13,
   "metadata": {},
   "outputs": [
    {
     "name": "stdout",
     "output_type": "stream",
     "text": [
      "Every feature: ['fixed_acidity', 'volatile_acidity', 'citric_acid', 'residual_sugar', 'chlorides', 'free_sulfur_dioxide', 'total_sulfur_dioxide', 'density', 'pH', 'sulphates', 'alcohol']\n",
      "A batch of citric acid: tf.Tensor(\n",
      "[0.24 0.32 0.4  0.27 0.4  0.46 0.34 0.29 0.26 0.71 0.49 0.35 0.31 0.32\n",
      " 0.29 0.53 0.35 0.37 0.34 0.27 0.34 0.29 0.39 0.2  0.22 0.54 0.36 0.43\n",
      " 0.32 0.24 0.27 0.19 0.32 0.3  0.39 0.41 0.16 0.22 0.33 0.34 0.28 0.68\n",
      " 0.28 0.52 0.39 0.27 0.32 0.49 0.62 0.38 0.31 0.32 0.45 0.5  0.31 0.31\n",
      " 0.41 0.46 0.49 0.3  0.32 0.34 0.67 0.33], shape=(64,), dtype=float32)\n",
      "A batch of quality: tf.Tensor(\n",
      "[[0. 0. 0. 0. 0. 0. 1. 0. 0. 0. 0.]\n",
      " [0. 0. 0. 0. 0. 0. 1. 0. 0. 0. 0.]\n",
      " [0. 0. 0. 0. 0. 0. 1. 0. 0. 0. 0.]\n",
      " [0. 0. 0. 0. 0. 0. 1. 0. 0. 0. 0.]\n",
      " [0. 0. 0. 0. 0. 0. 0. 0. 1. 0. 0.]\n",
      " [0. 0. 0. 0. 0. 0. 1. 0. 0. 0. 0.]\n",
      " [0. 0. 0. 0. 0. 1. 0. 0. 0. 0. 0.]\n",
      " [0. 0. 0. 0. 0. 0. 1. 0. 0. 0. 0.]\n",
      " [0. 0. 0. 0. 0. 0. 0. 1. 0. 0. 0.]\n",
      " [0. 0. 0. 0. 0. 1. 0. 0. 0. 0. 0.]\n",
      " [0. 0. 0. 0. 0. 1. 0. 0. 0. 0. 0.]\n",
      " [0. 0. 0. 0. 0. 1. 0. 0. 0. 0. 0.]\n",
      " [0. 0. 0. 0. 0. 0. 1. 0. 0. 0. 0.]\n",
      " [0. 0. 0. 0. 0. 0. 1. 0. 0. 0. 0.]\n",
      " [0. 0. 0. 0. 0. 0. 1. 0. 0. 0. 0.]\n",
      " [0. 0. 0. 0. 0. 1. 0. 0. 0. 0. 0.]\n",
      " [0. 0. 0. 0. 0. 1. 0. 0. 0. 0. 0.]\n",
      " [0. 0. 0. 0. 0. 0. 1. 0. 0. 0. 0.]\n",
      " [0. 0. 0. 0. 0. 1. 0. 0. 0. 0. 0.]\n",
      " [0. 0. 0. 0. 0. 0. 1. 0. 0. 0. 0.]\n",
      " [0. 0. 0. 0. 0. 0. 0. 1. 0. 0. 0.]\n",
      " [0. 0. 0. 0. 0. 1. 0. 0. 0. 0. 0.]\n",
      " [0. 0. 0. 0. 0. 1. 0. 0. 0. 0. 0.]\n",
      " [0. 0. 0. 0. 0. 0. 1. 0. 0. 0. 0.]\n",
      " [0. 0. 0. 0. 0. 1. 0. 0. 0. 0. 0.]\n",
      " [0. 0. 0. 0. 0. 0. 1. 0. 0. 0. 0.]\n",
      " [0. 0. 0. 0. 0. 0. 1. 0. 0. 0. 0.]\n",
      " [0. 0. 0. 0. 0. 0. 1. 0. 0. 0. 0.]\n",
      " [0. 0. 0. 0. 0. 1. 0. 0. 0. 0. 0.]\n",
      " [0. 0. 0. 0. 0. 0. 1. 0. 0. 0. 0.]\n",
      " [0. 0. 0. 0. 0. 0. 0. 1. 0. 0. 0.]\n",
      " [0. 0. 0. 0. 0. 0. 1. 0. 0. 0. 0.]\n",
      " [0. 0. 0. 0. 0. 0. 0. 1. 0. 0. 0.]\n",
      " [0. 0. 0. 0. 0. 0. 1. 0. 0. 0. 0.]\n",
      " [0. 0. 0. 0. 0. 1. 0. 0. 0. 0. 0.]\n",
      " [0. 0. 0. 0. 0. 0. 0. 1. 0. 0. 0.]\n",
      " [0. 0. 0. 0. 0. 1. 0. 0. 0. 0. 0.]\n",
      " [0. 0. 0. 0. 0. 1. 0. 0. 0. 0. 0.]\n",
      " [0. 0. 0. 0. 0. 0. 0. 1. 0. 0. 0.]\n",
      " [0. 0. 0. 0. 0. 0. 0. 1. 0. 0. 0.]\n",
      " [0. 0. 0. 0. 0. 1. 0. 0. 0. 0. 0.]\n",
      " [0. 0. 0. 0. 0. 1. 0. 0. 0. 0. 0.]\n",
      " [0. 0. 0. 0. 0. 0. 1. 0. 0. 0. 0.]\n",
      " [0. 0. 0. 0. 0. 0. 1. 0. 0. 0. 0.]\n",
      " [0. 0. 0. 0. 0. 0. 1. 0. 0. 0. 0.]\n",
      " [0. 0. 0. 0. 0. 0. 0. 1. 0. 0. 0.]\n",
      " [0. 0. 0. 0. 0. 0. 1. 0. 0. 0. 0.]\n",
      " [0. 0. 0. 0. 0. 0. 1. 0. 0. 0. 0.]\n",
      " [0. 0. 0. 0. 1. 0. 0. 0. 0. 0. 0.]\n",
      " [0. 0. 0. 0. 0. 0. 1. 0. 0. 0. 0.]\n",
      " [0. 0. 0. 0. 0. 0. 0. 1. 0. 0. 0.]\n",
      " [0. 0. 0. 0. 0. 0. 1. 0. 0. 0. 0.]\n",
      " [0. 0. 0. 0. 0. 0. 1. 0. 0. 0. 0.]\n",
      " [0. 0. 0. 0. 0. 1. 0. 0. 0. 0. 0.]\n",
      " [0. 0. 0. 0. 0. 0. 1. 0. 0. 0. 0.]\n",
      " [0. 0. 0. 0. 1. 0. 0. 0. 0. 0. 0.]\n",
      " [0. 0. 0. 0. 0. 0. 1. 0. 0. 0. 0.]\n",
      " [0. 0. 0. 1. 0. 0. 0. 0. 0. 0. 0.]\n",
      " [0. 0. 0. 0. 0. 0. 1. 0. 0. 0. 0.]\n",
      " [0. 0. 0. 0. 0. 0. 0. 1. 0. 0. 0.]\n",
      " [0. 0. 0. 0. 0. 0. 0. 0. 1. 0. 0.]\n",
      " [0. 0. 0. 0. 0. 1. 0. 0. 0. 0. 0.]\n",
      " [0. 0. 0. 0. 0. 1. 0. 0. 0. 0. 0.]\n",
      " [0. 0. 0. 0. 0. 0. 1. 0. 0. 0. 0.]], shape=(64, 11), dtype=float32)\n"
     ]
    }
   ],
   "source": [
    "for feature_batch, label_batch in train_ds.take(1):\n",
    "  print('Every feature:', list(feature_batch.keys()))\n",
    "  print('A batch of citric acid:', feature_batch['citric_acid'])\n",
    "  print('A batch of quality:', label_batch )"
   ]
  },
  {
   "cell_type": "markdown",
   "metadata": {},
   "source": [
    "### Create feature columns\n",
    "\n",
    "TensorFlow provides many types of feature columns. In this exercise, all the feature columns are of type `numeric`. If there were any text or categorical values, transformations would need to take place to make the input all numeric.\n",
    "\n",
    "However, you often don't want to feed a number directly into the model, but instead split its value into different categories based on numerical ranges. To do this, use the `bucketized_column` method of feature columns. This allows for the network to represent discretized dense input bucketed by boundaries.\n",
    "\n",
    "Feature columns are the object type used to create `feature layers`, which we will feed to the Keras model."
   ]
  },
  {
   "cell_type": "code",
   "execution_count": 14,
   "metadata": {},
   "outputs": [
    {
     "data": {
      "text/plain": [
       "[BucketizedColumn(source_column=NumericColumn(key='fixed_acidity', shape=(1,), default_value=None, dtype=tf.float32, normalizer_fn=None), boundaries=(3.0, 5.0, 7.0, 9.0, 11.0, 13.0, 14.0)),\n",
       " BucketizedColumn(source_column=NumericColumn(key='volatile_acidity', shape=(1,), default_value=None, dtype=tf.float32, normalizer_fn=None), boundaries=(0.0, 0.2, 0.4, 0.6, 0.8, 1.0)),\n",
       " BucketizedColumn(source_column=NumericColumn(key='citric_acid', shape=(1,), default_value=None, dtype=tf.float32, normalizer_fn=None), boundaries=(0.0, 0.4, 0.7, 1.0, 1.3, 1.8)),\n",
       " BucketizedColumn(source_column=NumericColumn(key='residual_sugar', shape=(1,), default_value=None, dtype=tf.float32, normalizer_fn=None), boundaries=(0.6, 10.0, 20.0, 30.0, 40.0, 50.0, 60.0, 70.0)),\n",
       " BucketizedColumn(source_column=NumericColumn(key='chlorides', shape=(1,), default_value=None, dtype=tf.float32, normalizer_fn=None), boundaries=(0.0, 0.1, 0.2, 0.3, 0.4)),\n",
       " BucketizedColumn(source_column=NumericColumn(key='free_sulfur_dioxide', shape=(1,), default_value=None, dtype=tf.float32, normalizer_fn=None), boundaries=(1.0, 50.0, 100.0, 150.0, 200.0, 250.0, 300.0)),\n",
       " BucketizedColumn(source_column=NumericColumn(key='total_sulfur_dioxide', shape=(1,), default_value=None, dtype=tf.float32, normalizer_fn=None), boundaries=(9.0, 100.0, 200.0, 300.0, 400.0, 500.0)),\n",
       " BucketizedColumn(source_column=NumericColumn(key='density', shape=(1,), default_value=None, dtype=tf.float32, normalizer_fn=None), boundaries=(0.9, 1.0, 1.1)),\n",
       " BucketizedColumn(source_column=NumericColumn(key='pH', shape=(1,), default_value=None, dtype=tf.float32, normalizer_fn=None), boundaries=(2.0, 3.0, 4.0)),\n",
       " BucketizedColumn(source_column=NumericColumn(key='sulphates', shape=(1,), default_value=None, dtype=tf.float32, normalizer_fn=None), boundaries=(0.2, 0.4, 0.7, 1.0, 1.1)),\n",
       " BucketizedColumn(source_column=NumericColumn(key='alcohol', shape=(1,), default_value=None, dtype=tf.float32, normalizer_fn=None), boundaries=(8.0, 9.0, 10.0, 11.0, 12.0, 13.0, 14.0))]"
      ]
     },
     "execution_count": 14,
     "metadata": {},
     "output_type": "execute_result"
    }
   ],
   "source": [
    "from tensorflow import feature_column\n",
    "\n",
    "feature_columns = []\n",
    "\n",
    "fixed_acidity = tf.feature_column.numeric_column('fixed_acidity')\n",
    "bucketized_fixed_acidity = tf.feature_column.bucketized_column(\n",
    "    fixed_acidity, boundaries=[3., 5., 7., 9., 11., 13., 14.])\n",
    "feature_columns.append(bucketized_fixed_acidity)\n",
    "\n",
    "volatile_acidity = tf.feature_column.numeric_column('volatile_acidity')\n",
    "bucketized_volatile_acidity = tf.feature_column.bucketized_column(\n",
    "    volatile_acidity, boundaries=[0., 0.2, 0.4, 0.6, 0.8, 1.])\n",
    "feature_columns.append(bucketized_volatile_acidity)\n",
    "\n",
    "citric_acid = tf.feature_column.numeric_column('citric_acid')\n",
    "bucketized_citric_acid = tf.feature_column.bucketized_column(\n",
    "    citric_acid, boundaries=[0., 0.4, 0.7, 1.0, 1.3, 1.8])\n",
    "feature_columns.append(bucketized_citric_acid)\n",
    "\n",
    "residual_sugar = tf.feature_column.numeric_column('residual_sugar')\n",
    "bucketized_residual_sugar = tf.feature_column.bucketized_column(\n",
    "    residual_sugar, boundaries=[0.6, 10., 20., 30., 40., 50., 60., 70.])\n",
    "feature_columns.append(bucketized_residual_sugar)\n",
    "\n",
    "chlorides = tf.feature_column.numeric_column('chlorides')\n",
    "bucketized_chlorides = tf.feature_column.bucketized_column(\n",
    "    chlorides, boundaries=[0., 0.1, 0.2, 0.3, 0.4])\n",
    "feature_columns.append(bucketized_chlorides)\n",
    "\n",
    "free_sulfur_dioxide = tf.feature_column.numeric_column('free_sulfur_dioxide')\n",
    "bucketized_free_sulfur_dioxide = tf.feature_column.bucketized_column(\n",
    "    free_sulfur_dioxide, boundaries=[1., 50., 100., 150., 200., 250., 300.])\n",
    "feature_columns.append(bucketized_free_sulfur_dioxide)\n",
    "\n",
    "total_sulfur_dioxide = tf.feature_column.numeric_column('total_sulfur_dioxide')\n",
    "bucketized_total_sulfur_dioxide = tf.feature_column.bucketized_column(\n",
    "    total_sulfur_dioxide, boundaries=[9., 100., 200., 300., 400., 500.])\n",
    "feature_columns.append(bucketized_total_sulfur_dioxide)\n",
    "\n",
    "density = tf.feature_column.numeric_column('density')\n",
    "bucketized_density = tf.feature_column.bucketized_column(\n",
    "    density, boundaries=[0.9, 1.0, 1.1])\n",
    "feature_columns.append(bucketized_density)\n",
    "\n",
    "pH = tf.feature_column.numeric_column('pH')\n",
    "bucketized_pH = tf.feature_column.bucketized_column(\n",
    "    pH, boundaries=[2., 3., 4.])\n",
    "feature_columns.append(bucketized_pH)\n",
    "\n",
    "sulphates = tf.feature_column.numeric_column('sulphates')\n",
    "bucketized_sulphates = tf.feature_column.bucketized_column(\n",
    "    sulphates, boundaries=[0.2, 0.4, 0.7, 1.0, 1.1])\n",
    "feature_columns.append(bucketized_sulphates)\n",
    "\n",
    "alcohol = tf.feature_column.numeric_column('alcohol')\n",
    "bucketized_alcohol = tf.feature_column.bucketized_column(\n",
    "    alcohol, boundaries=[8., 9., 10., 11., 12., 13., 14.])\n",
    "feature_columns.append(bucketized_alcohol)\n",
    "\n",
    "\n",
    "feature_columns"
   ]
  },
  {
   "cell_type": "code",
   "execution_count": 15,
   "metadata": {},
   "outputs": [],
   "source": [
    "# Create a feature layer from the feature columns\n",
    "\n",
    "feature_layer = tf.keras.layers.DenseFeatures(feature_columns)"
   ]
  },
  {
   "cell_type": "markdown",
   "metadata": {},
   "source": [
    "### Define, compile and train the Keras model\n",
    "\n",
    "We will be using the [Keras Sequential API](https://keras.io/api/models/sequential/) to create the logistic regression model for the classification of the wine quality.\n",
    "\n",
    "The model will be composed of the input layer (feature_layer created above), a single dense layer with two neural nodes, and the output layer, which will allow the model to predict the rating (1 - 10) of each instance being inferred.\n",
    "\n",
    "When compiling the model, we define a loss function, an optimizer and which metrics to use to evaluate the model. `CategoricalCrossentropy` is a type of loss used in classification tasks. Losses are a mathematical way of measuring how wrong the model predictions are.\n",
    "\n",
    "Optimizers tie together the loss function and model parameters by updating the model in response to the output of the loss function. In simpler terms, optimizers shape and mold your model into its most accurate possible form by playing with the weights. The loss function is the guide to the terrain, telling the optimizer when it’s moving in the right or wrong direction. We will use `Adam` as our optimizer for this exercise. Adam is an optimization algorithm that can be used instead of the classical stochastic gradient descent procedure to update network weights iterative based in training data.\n",
    "\n",
    "There are many types of optimizers one can chose from. Ideally, when creating an ML model, try and identify an optimizer that has been empirically adopted on similar tasks."
   ]
  },
  {
   "cell_type": "code",
   "execution_count": 16,
   "metadata": {},
   "outputs": [],
   "source": [
    "model = tf.keras.Sequential([\n",
    "  feature_layer,\n",
    "  layers.Dense(8, activation='relu'),\n",
    "  layers.Dense(8, activation='relu'),\n",
    "  layers.Dense(11, activation='softmax')\n",
    "])"
   ]
  },
  {
   "cell_type": "code",
   "execution_count": 17,
   "metadata": {},
   "outputs": [
    {
     "name": "stdout",
     "output_type": "stream",
     "text": [
      "Train for 490 steps, validate for 123 steps\n",
      "Epoch 1/5\n",
      "490/490 [==============================] - 3s 5ms/step - loss: 1.4472 - accuracy: 0.4499 - val_loss: 1.1822 - val_accuracy: 0.5026\n",
      "Epoch 2/5\n",
      "490/490 [==============================] - 2s 3ms/step - loss: 1.1543 - accuracy: 0.5004 - val_loss: 1.1307 - val_accuracy: 0.5255\n",
      "Epoch 3/5\n",
      "490/490 [==============================] - 2s 3ms/step - loss: 1.1270 - accuracy: 0.5123 - val_loss: 1.1222 - val_accuracy: 0.5191\n",
      "Epoch 4/5\n",
      "490/490 [==============================] - 2s 3ms/step - loss: 1.1162 - accuracy: 0.5171 - val_loss: 1.1154 - val_accuracy: 0.5293\n",
      "Epoch 5/5\n",
      "490/490 [==============================] - 2s 3ms/step - loss: 1.1093 - accuracy: 0.5171 - val_loss: 1.1133 - val_accuracy: 0.5204\n"
     ]
    },
    {
     "data": {
      "text/plain": [
       "<tensorflow.python.keras.callbacks.History at 0x7f1c7c2085d0>"
      ]
     },
     "execution_count": 17,
     "metadata": {},
     "output_type": "execute_result"
    }
   ],
   "source": [
    "model.compile(optimizer='adam',\n",
    "              loss=tf.keras.losses.CategoricalCrossentropy(from_logits=False),\n",
    "              metrics=['accuracy'])\n",
    "\n",
    "model.fit(train_ds,\n",
    "          validation_data=val_ds,\n",
    "          epochs=5)"
   ]
  },
  {
   "cell_type": "markdown",
   "metadata": {},
   "source": [
    "When training a model, you want to evaluate its performance by looking at the loss and the chosen metric(s).\n",
    "The validation loss and accuracy will point out if the model is actually learning and able to generalize or if it is overfitting."
   ]
  },
  {
   "cell_type": "markdown",
   "metadata": {
    "colab_type": "text",
    "id": "vgGQuV-yqYZH"
   },
   "source": [
    "## Conclusion\n",
    "\n",
    "This notebook introduced a few concepts to handle a classification problem with Keras Sequential API.\n",
    "\n",
    "* We looked at some techniques to clean and inspect data.\n",
    "* We split the dataset into training, validation and test datasets.\n",
    "* We used the tf.data.Dataset to create an input pipeline.\n",
    "* We went over some basics on loss and optimizers.\n",
    "* We covered the steps to define, compile and train a model using the Keras Sequential API."
   ]
  }
 ],
 "metadata": {
  "colab": {
   "collapsed_sections": [],
   "name": "regression.ipynb",
   "private_outputs": true,
   "provenance": [],
   "toc_visible": true
  },
  "environment": {
   "name": "tf2-gpu.2-3.m65",
   "type": "gcloud",
   "uri": "gcr.io/deeplearning-platform-release/tf2-gpu.2-3:m65"
  },
  "kernelspec": {
   "display_name": "Python 3",
   "language": "python",
   "name": "python3"
  },
  "language_info": {
   "codemirror_mode": {
    "name": "ipython",
    "version": 3
   },
   "file_extension": ".py",
   "mimetype": "text/x-python",
   "name": "python",
   "nbconvert_exporter": "python",
   "pygments_lexer": "ipython3",
   "version": "3.7.10"
  }
 },
 "nbformat": 4,
 "nbformat_minor": 4
}
